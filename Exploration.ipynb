{
 "cells": [
  {
   "cell_type": "code",
   "execution_count": 66,
   "metadata": {},
   "outputs": [],
   "source": [
    "import numpy as np\n",
    "import matplotlib.pyplot as plt\n",
    "import pandas as pd\n",
    "from sklearn.model_selection import train_test_split\n",
    "from sklearn.preprocessing import StandardScaler\n",
    "from sklearn.svm import SVC\n",
    "from sklearn.metrics import confusion_matrix\n",
    "from matplotlib.colors import ListedColormap\n",
    "from sklearn.metrics import accuracy_score\n",
    "from sklearn.model_selection import cross_val_score\n",
    "from sklearn.model_selection import GridSearchCV\n",
    "from sklearn.metrics import classification_report\n",
    "from sklearn.metrics import roc_curve, auc\n",
    "from sklearn.linear_model import LinearRegression\n",
    "from sklearn.metrics import mean_absolute_error, mean_squared_error, r2_score"
   ]
  },
  {
   "cell_type": "markdown",
   "metadata": {},
   "source": [
    "Notes about data:\n",
    "\n",
    "-Has 95 rows of integers with NaNs in them\n",
    "\n",
    "-Then last 5 rows of Letters from : ['G', 'H', 'I', 'J', 'K', 'N', 'a']"
   ]
  },
  {
   "cell_type": "code",
   "execution_count": 57,
   "metadata": {},
   "outputs": [
    {
     "name": "stdout",
     "output_type": "stream",
     "text": [
      "DataFrame contains string values: True\n"
     ]
    }
   ],
   "source": [
    "df = pd.read_csv('case1Data.txt')\n",
    "df.replace(to_replace=r'^\\s*NaN\\s*$', value=np.nan, regex=True, inplace=True)  # Case-insensitive, trims whitespace\n",
    "\n",
    "\n",
    "# Replace NaNs with 0\n",
    "df.fillna(0, inplace=True)\n",
    "\n",
    "contains_string = df.applymap(lambda x: isinstance(x, str)).any().any()\n",
    "\n",
    "print(f\"DataFrame contains string values: {contains_string}\")"
   ]
  },
  {
   "cell_type": "code",
   "execution_count": null,
   "metadata": {},
   "outputs": [],
   "source": [
    "last_five_columns = df.iloc[:, -5:]\n",
    "concatenated_text = ''.join(last_five_columns.astype(str).values.flatten())\n",
    "\n",
    "unique_letters = set(letter for letter in concatenated_text if letter.isalpha())\n",
    "\n",
    "# Convert the set to a sorted list if you want it ordered\n",
    "unique_letters_sorted = sorted(unique_letters)\n",
    "\n",
    "print(unique_letters_sorted)\n",
    "# Letters that appear and their mapping to numbers\n",
    "letters = ['G', 'H', 'I', 'J', 'K', 'N', 'a']\n",
    "mapping = {letter: i+1.0 for i, letter in enumerate(letters)}\n",
    "\n",
    "# Apply the mapping to the last 5 columns of the DataFrame\n",
    "for col in df.iloc[:, -5:].columns:\n",
    "    df[col] = df[col].apply(lambda x: ''.join(str(mapping.get(letter, letter)) for letter in str(x)))\n",
    "\n",
    "# Convert everything to floats\n",
    "for column in df.columns:\n",
    "    df[column] = pd.to_numeric(df[column], errors='ignore')"
   ]
  },
  {
   "cell_type": "code",
   "execution_count": 67,
   "metadata": {},
   "outputs": [
    {
     "name": "stdout",
     "output_type": "stream",
     "text": [
      "Mean Absolute Error (MAE): 43.50576556621277\n",
      "Mean Squared Error (MSE): 3376.839544773491\n",
      "Root Mean Squared Error (RMSE): 58.110580316956835\n",
      "R-squared (R²): -0.022878824551715526\n"
     ]
    }
   ],
   "source": [
    "X = df.drop('y', axis=1)  # Assuming 'Y' is the column name for your target variable\n",
    "y = df['y']\n",
    "X_train, X_test, y_train, y_test = train_test_split(X, y, test_size=0.2, random_state=42)\n",
    "\n",
    "model = LinearRegression()\n",
    "model.fit(X_train, y_train)\n",
    "\n",
    "# Predicting with the model\n",
    "y_pred = model.predict(X_test)\n",
    "\n",
    "# Calculating metrics\n",
    "mae = mean_absolute_error(y_test, y_pred)\n",
    "mse = mean_squared_error(y_test, y_pred)\n",
    "rmse = np.sqrt(mse)\n",
    "r2 = r2_score(y_test, y_pred)\n",
    "\n",
    "print(f\"Mean Absolute Error (MAE): {mae}\")\n",
    "print(f\"Mean Squared Error (MSE): {mse}\")\n",
    "print(f\"Root Mean Squared Error (RMSE): {rmse}\")\n",
    "print(f\"R-squared (R²): {r2}\")\n"
   ]
  }
 ],
 "metadata": {
  "kernelspec": {
   "display_name": "Python 3",
   "language": "python",
   "name": "python3"
  },
  "language_info": {
   "codemirror_mode": {
    "name": "ipython",
    "version": 3
   },
   "file_extension": ".py",
   "mimetype": "text/x-python",
   "name": "python",
   "nbconvert_exporter": "python",
   "pygments_lexer": "ipython3",
   "version": "3.11.2"
  }
 },
 "nbformat": 4,
 "nbformat_minor": 2
}
